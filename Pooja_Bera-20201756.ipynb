{
 "cells": [
  {
   "cell_type": "markdown",
   "metadata": {},
   "source": [
    "#  Continuous Assessment  (FINAL)"
   ]
  },
  {
   "cell_type": "markdown",
   "metadata": {},
   "source": [
    "# POOJA BERA\n",
    "ETU20201756\n",
    "DBAN-2020"
   ]
  },
  {
   "cell_type": "markdown",
   "metadata": {},
   "source": [
    "# Question 1 (50 points) Data : Import, Manipulation & Visualisation"
   ]
  },
  {
   "cell_type": "markdown",
   "metadata": {},
   "source": [
    "# Importing & Cleaning Data : (10 point) "
   ]
  },
  {
   "cell_type": "code",
   "execution_count": 3,
   "metadata": {},
   "outputs": [
    {
     "data": {
      "text/html": [
       "<div>\n",
       "<style scoped>\n",
       "    .dataframe tbody tr th:only-of-type {\n",
       "        vertical-align: middle;\n",
       "    }\n",
       "\n",
       "    .dataframe tbody tr th {\n",
       "        vertical-align: top;\n",
       "    }\n",
       "\n",
       "    .dataframe thead th {\n",
       "        text-align: right;\n",
       "    }\n",
       "</style>\n",
       "<table border=\"1\" class=\"dataframe\">\n",
       "  <thead>\n",
       "    <tr style=\"text-align: right;\">\n",
       "      <th></th>\n",
       "      <th>ID_Num</th>\n",
       "      <th>Country</th>\n",
       "      <th>Region</th>\n",
       "      <th>IFM_Nigo</th>\n",
       "      <th>Step_Nego</th>\n",
       "      <th>Gov_Spending</th>\n",
       "      <th>Business_Freedom</th>\n",
       "      <th>Monetary_Freedom</th>\n",
       "      <th>Investment_Freedom</th>\n",
       "      <th>Population_Millions</th>\n",
       "      <th>GDP_Billions_PPP</th>\n",
       "      <th>Unemployment_Rate</th>\n",
       "      <th>Inflation_Rate</th>\n",
       "      <th>Public_Debt_rate_GDP</th>\n",
       "    </tr>\n",
       "  </thead>\n",
       "  <tbody>\n",
       "    <tr>\n",
       "      <th>0</th>\n",
       "      <td>1</td>\n",
       "      <td>Afghanistan</td>\n",
       "      <td>Asia-Pacific</td>\n",
       "      <td>0</td>\n",
       "      <td>Step4</td>\n",
       "      <td>80.3</td>\n",
       "      <td>49.2</td>\n",
       "      <td>76.7</td>\n",
       "      <td>10.0</td>\n",
       "      <td>35.5</td>\n",
       "      <td>69.6</td>\n",
       "      <td>8.8</td>\n",
       "      <td>5.0</td>\n",
       "      <td>7.3</td>\n",
       "    </tr>\n",
       "    <tr>\n",
       "      <th>1</th>\n",
       "      <td>2</td>\n",
       "      <td>Albania</td>\n",
       "      <td>Europe</td>\n",
       "      <td>1</td>\n",
       "      <td>Step1</td>\n",
       "      <td>73.9</td>\n",
       "      <td>69.3</td>\n",
       "      <td>81.5</td>\n",
       "      <td>70.0</td>\n",
       "      <td>2.9</td>\n",
       "      <td>36.0</td>\n",
       "      <td>13.9</td>\n",
       "      <td>2.0</td>\n",
       "      <td>71.2</td>\n",
       "    </tr>\n",
       "    <tr>\n",
       "      <th>2</th>\n",
       "      <td>3</td>\n",
       "      <td>Algeria</td>\n",
       "      <td>Middle East and North Africa</td>\n",
       "      <td>0</td>\n",
       "      <td>Step4</td>\n",
       "      <td>48.7</td>\n",
       "      <td>61.6</td>\n",
       "      <td>74.9</td>\n",
       "      <td>30.0</td>\n",
       "      <td>41.5</td>\n",
       "      <td>632.9</td>\n",
       "      <td>10.0</td>\n",
       "      <td>5.6</td>\n",
       "      <td>25.8</td>\n",
       "    </tr>\n",
       "    <tr>\n",
       "      <th>3</th>\n",
       "      <td>4</td>\n",
       "      <td>Angola</td>\n",
       "      <td>Sub-Saharan Africa</td>\n",
       "      <td>0</td>\n",
       "      <td>Step4</td>\n",
       "      <td>80.7</td>\n",
       "      <td>55.7</td>\n",
       "      <td>55.4</td>\n",
       "      <td>30.0</td>\n",
       "      <td>28.2</td>\n",
       "      <td>190.3</td>\n",
       "      <td>8.2</td>\n",
       "      <td>31.7</td>\n",
       "      <td>65.3</td>\n",
       "    </tr>\n",
       "    <tr>\n",
       "      <th>4</th>\n",
       "      <td>5</td>\n",
       "      <td>Argentina</td>\n",
       "      <td>Americas</td>\n",
       "      <td>0</td>\n",
       "      <td>Step2</td>\n",
       "      <td>49.5</td>\n",
       "      <td>56.4</td>\n",
       "      <td>60.2</td>\n",
       "      <td>55.0</td>\n",
       "      <td>44.1</td>\n",
       "      <td>920.2</td>\n",
       "      <td>8.7</td>\n",
       "      <td>25.7</td>\n",
       "      <td>52.6</td>\n",
       "    </tr>\n",
       "    <tr>\n",
       "      <th>...</th>\n",
       "      <td>...</td>\n",
       "      <td>...</td>\n",
       "      <td>...</td>\n",
       "      <td>...</td>\n",
       "      <td>...</td>\n",
       "      <td>...</td>\n",
       "      <td>...</td>\n",
       "      <td>...</td>\n",
       "      <td>...</td>\n",
       "      <td>...</td>\n",
       "      <td>...</td>\n",
       "      <td>...</td>\n",
       "      <td>...</td>\n",
       "      <td>...</td>\n",
       "    </tr>\n",
       "    <tr>\n",
       "      <th>169</th>\n",
       "      <td>170</td>\n",
       "      <td>Vanuatu</td>\n",
       "      <td>Asia-Pacific</td>\n",
       "      <td>0</td>\n",
       "      <td>Step1</td>\n",
       "      <td>54.1</td>\n",
       "      <td>52.4</td>\n",
       "      <td>75.0</td>\n",
       "      <td>65.0</td>\n",
       "      <td>0.3</td>\n",
       "      <td>0.8</td>\n",
       "      <td>5.2</td>\n",
       "      <td>3.1</td>\n",
       "      <td>48.4</td>\n",
       "    </tr>\n",
       "    <tr>\n",
       "      <th>170</th>\n",
       "      <td>171</td>\n",
       "      <td>Venezuela</td>\n",
       "      <td>Americas</td>\n",
       "      <td>0</td>\n",
       "      <td>Step2</td>\n",
       "      <td>58.1</td>\n",
       "      <td>33.9</td>\n",
       "      <td>10.0</td>\n",
       "      <td>2.0</td>\n",
       "      <td>31.4</td>\n",
       "      <td>380.7</td>\n",
       "      <td>7.7</td>\n",
       "      <td>1087.5</td>\n",
       "      <td>34.9</td>\n",
       "    </tr>\n",
       "    <tr>\n",
       "      <th>171</th>\n",
       "      <td>172</td>\n",
       "      <td>Vietnam</td>\n",
       "      <td>Asia-Pacific</td>\n",
       "      <td>0</td>\n",
       "      <td>Step2</td>\n",
       "      <td>74.1</td>\n",
       "      <td>63.5</td>\n",
       "      <td>68.9</td>\n",
       "      <td>30.0</td>\n",
       "      <td>93.6</td>\n",
       "      <td>647.4</td>\n",
       "      <td>2.1</td>\n",
       "      <td>3.5</td>\n",
       "      <td>58.2</td>\n",
       "    </tr>\n",
       "    <tr>\n",
       "      <th>172</th>\n",
       "      <td>173</td>\n",
       "      <td>Zambia</td>\n",
       "      <td>Sub-Saharan Africa</td>\n",
       "      <td>0</td>\n",
       "      <td>Step4</td>\n",
       "      <td>80.1</td>\n",
       "      <td>71.1</td>\n",
       "      <td>70.3</td>\n",
       "      <td>55.0</td>\n",
       "      <td>17.2</td>\n",
       "      <td>68.9</td>\n",
       "      <td>7.8</td>\n",
       "      <td>6.6</td>\n",
       "      <td>62.2</td>\n",
       "    </tr>\n",
       "    <tr>\n",
       "      <th>173</th>\n",
       "      <td>174</td>\n",
       "      <td>Zimbabwe</td>\n",
       "      <td>Sub-Saharan Africa</td>\n",
       "      <td>0</td>\n",
       "      <td>Step1</td>\n",
       "      <td>74.5</td>\n",
       "      <td>33.4</td>\n",
       "      <td>72.4</td>\n",
       "      <td>25.0</td>\n",
       "      <td>14.9</td>\n",
       "      <td>34.0</td>\n",
       "      <td>5.0</td>\n",
       "      <td>1.3</td>\n",
       "      <td>78.4</td>\n",
       "    </tr>\n",
       "  </tbody>\n",
       "</table>\n",
       "<p>174 rows × 14 columns</p>\n",
       "</div>"
      ],
      "text/plain": [
       "     ID_Num      Country                        Region  IFM_Nigo Step_Nego  \\\n",
       "0         1  Afghanistan                  Asia-Pacific         0     Step4   \n",
       "1         2      Albania                        Europe         1     Step1   \n",
       "2         3      Algeria  Middle East and North Africa         0     Step4   \n",
       "3         4       Angola            Sub-Saharan Africa         0     Step4   \n",
       "4         5    Argentina                      Americas         0     Step2   \n",
       "..      ...          ...                           ...       ...       ...   \n",
       "169     170      Vanuatu                  Asia-Pacific         0     Step1   \n",
       "170     171    Venezuela                      Americas         0     Step2   \n",
       "171     172      Vietnam                  Asia-Pacific         0     Step2   \n",
       "172     173       Zambia            Sub-Saharan Africa         0     Step4   \n",
       "173     174     Zimbabwe            Sub-Saharan Africa         0     Step1   \n",
       "\n",
       "     Gov_Spending  Business_Freedom  Monetary_Freedom  Investment_Freedom  \\\n",
       "0            80.3              49.2              76.7                10.0   \n",
       "1            73.9              69.3              81.5                70.0   \n",
       "2            48.7              61.6              74.9                30.0   \n",
       "3            80.7              55.7              55.4                30.0   \n",
       "4            49.5              56.4              60.2                55.0   \n",
       "..            ...               ...               ...                 ...   \n",
       "169          54.1              52.4              75.0                65.0   \n",
       "170          58.1              33.9              10.0                 2.0   \n",
       "171          74.1              63.5              68.9                30.0   \n",
       "172          80.1              71.1              70.3                55.0   \n",
       "173          74.5              33.4              72.4                25.0   \n",
       "\n",
       "     Population_Millions  GDP_Billions_PPP  Unemployment_Rate  Inflation_Rate  \\\n",
       "0                   35.5              69.6                8.8             5.0   \n",
       "1                    2.9              36.0               13.9             2.0   \n",
       "2                   41.5             632.9               10.0             5.6   \n",
       "3                   28.2             190.3                8.2            31.7   \n",
       "4                   44.1             920.2                8.7            25.7   \n",
       "..                   ...               ...                ...             ...   \n",
       "169                  0.3               0.8                5.2             3.1   \n",
       "170                 31.4             380.7                7.7          1087.5   \n",
       "171                 93.6             647.4                2.1             3.5   \n",
       "172                 17.2              68.9                7.8             6.6   \n",
       "173                 14.9              34.0                5.0             1.3   \n",
       "\n",
       "     Public_Debt_rate_GDP  \n",
       "0                     7.3  \n",
       "1                    71.2  \n",
       "2                    25.8  \n",
       "3                    65.3  \n",
       "4                    52.6  \n",
       "..                    ...  \n",
       "169                  48.4  \n",
       "170                  34.9  \n",
       "171                  58.2  \n",
       "172                  62.2  \n",
       "173                  78.4  \n",
       "\n",
       "[174 rows x 14 columns]"
      ]
     },
     "execution_count": 3,
     "metadata": {},
     "output_type": "execute_result"
    }
   ],
   "source": [
    "import pandas as pd\n",
    "import numpy as np\n",
    "import matplotlib.pyplot as plt \n",
    "bank = pd.read_excel(\"World_Bank_Report_2019.xlsx\")\n",
    "bank"
   ]
  },
  {
   "cell_type": "markdown",
   "metadata": {},
   "source": [
    "### b) Write a Python code to display a summary of the basic information about the Data Frame and its data.Please indicate any information you consider relevant to data analysis."
   ]
  },
  {
   "cell_type": "code",
   "execution_count": 19,
   "metadata": {},
   "outputs": [
    {
     "data": {
      "text/plain": [
       "(174, 14)"
      ]
     },
     "execution_count": 19,
     "metadata": {},
     "output_type": "execute_result"
    }
   ],
   "source": [
    "bank.shape"
   ]
  },
  {
   "cell_type": "code",
   "execution_count": 293,
   "metadata": {},
   "outputs": [
    {
     "data": {
      "text/plain": [
       "ID_Num                  0\n",
       "Country                 0\n",
       "Region                  0\n",
       "IFM_Nigo                0\n",
       "Step_Nego               3\n",
       "Gov_Spending            2\n",
       "Business_Freedom        1\n",
       "Monetary_Freedom        1\n",
       "Investment_Freedom      1\n",
       "Population_Millions     0\n",
       "GDP_Billions_PPP        0\n",
       "Unemployment_Rate       1\n",
       "Inflation_Rate          1\n",
       "Public_Debt_rate_GDP    0\n",
       "dtype: int64"
      ]
     },
     "execution_count": 293,
     "metadata": {},
     "output_type": "execute_result"
    }
   ],
   "source": [
    "bank.isnull().sum()"
   ]
  },
  {
   "cell_type": "code",
   "execution_count": 294,
   "metadata": {},
   "outputs": [
    {
     "data": {
      "text/plain": [
       "Index(['ID_Num', 'Country', 'Region', 'IFM_Nigo', 'Step_Nego', 'Gov_Spending',\n",
       "       'Business_Freedom', 'Monetary_Freedom', 'Investment_Freedom',\n",
       "       'Population_Millions', 'GDP_Billions_PPP', 'Unemployment_Rate',\n",
       "       'Inflation_Rate', 'Public_Debt_rate_GDP'],\n",
       "      dtype='object')"
      ]
     },
     "execution_count": 294,
     "metadata": {},
     "output_type": "execute_result"
    }
   ],
   "source": [
    "bank.columns "
   ]
  },
  {
   "cell_type": "code",
   "execution_count": 295,
   "metadata": {},
   "outputs": [
    {
     "data": {
      "text/plain": [
       "ID_Num                    int64\n",
       "Country                  object\n",
       "Region                   object\n",
       "IFM_Nigo                  int64\n",
       "Step_Nego                object\n",
       "Gov_Spending            float64\n",
       "Business_Freedom        float64\n",
       "Monetary_Freedom        float64\n",
       "Investment_Freedom      float64\n",
       "Population_Millions     float64\n",
       "GDP_Billions_PPP        float64\n",
       "Unemployment_Rate       float64\n",
       "Inflation_Rate          float64\n",
       "Public_Debt_rate_GDP    float64\n",
       "dtype: object"
      ]
     },
     "execution_count": 295,
     "metadata": {},
     "output_type": "execute_result"
    }
   ],
   "source": [
    "bank.dtypes"
   ]
  },
  {
   "cell_type": "code",
   "execution_count": 296,
   "metadata": {},
   "outputs": [
    {
     "data": {
      "text/plain": [
       "array(['Asia-Pacific', 'Europe', 'Middle East and North Africa',\n",
       "       'Sub-Saharan Africa', 'Americas'], dtype=object)"
      ]
     },
     "execution_count": 296,
     "metadata": {},
     "output_type": "execute_result"
    }
   ],
   "source": [
    "regions=bank['Region'].unique()\n",
    "regions"
   ]
  },
  {
   "cell_type": "code",
   "execution_count": 298,
   "metadata": {},
   "outputs": [],
   "source": [
    "bank_M =bank.loc[bank['Region']=='regions']"
   ]
  },
  {
   "cell_type": "code",
   "execution_count": 299,
   "metadata": {},
   "outputs": [
    {
     "name": "stdout",
     "output_type": "stream",
     "text": [
      "Asia-Pacific\n",
      "72.25\n",
      "Europe\n",
      "45.21190476190475\n",
      "Middle East and North Africa\n",
      "60.76428571428571\n",
      "Sub-Saharan Africa\n",
      "76.60222222222222\n",
      "Americas\n",
      "70.64516129032258\n"
     ]
    }
   ],
   "source": [
    "for Region in regions :\n",
    "    bank_Dy =bank.loc[bank['Region'] == Region]\n",
    "    print(Region)\n",
    "    print(bank_Dy['Gov_Spending'].mean())"
   ]
  },
  {
   "cell_type": "code",
   "execution_count": 331,
   "metadata": {},
   "outputs": [
    {
     "data": {
      "text/plain": [
       "ID_Num                  0\n",
       "Country                 0\n",
       "Region                  0\n",
       "IFM_Nigo                0\n",
       "Step_Nego               0\n",
       "Gov_Spending            0\n",
       "Business_Freedom        0\n",
       "Monetary_Freedom        0\n",
       "Investment_Freedom      0\n",
       "Population_Millions     0\n",
       "GDP_Billions_PPP        0\n",
       "Unemployment_Rate       0\n",
       "Inflation_Rate          0\n",
       "Public_Debt_rate_GDP    0\n",
       "dtype: int64"
      ]
     },
     "execution_count": 331,
     "metadata": {},
     "output_type": "execute_result"
    }
   ],
   "source": [
    "df1 = bank.loc[bank['Region'] == 'Asia-Pacific'].fillna({'Gov_Spending' : bank.Gov_Spending.mean(), \n",
    "           'Business_Freedom' : bank.Business_Freedom.mean(), \n",
    "           'Monetary_Freedom': bank.Monetary_Freedom.mean(),\n",
    "           'Investment_Freedom': bank.Investment_Freedom.mean(),\n",
    "           'Unemployment_Rate': bank.Unemployment_Rate.mean(),\n",
    "           'Inflation_Rate': bank.Inflation_Rate.mean(),})\n",
    "df2 = bank.loc[bank['Region'] == 'Europe'].fillna({'Gov_Spending' : bank.Gov_Spending.mean(), \n",
    "           'Business_Freedom' : bank.Business_Freedom.mean(), \n",
    "           'Monetary_Freedom': bank.Monetary_Freedom.mean(),\n",
    "           'Investment_Freedom': bank.Investment_Freedom.mean(),\n",
    "           'Unemployment_Rate': bank.Unemployment_Rate.mean(),\n",
    "           'Inflation_Rate': bank.Inflation_Rate.mean(),})\n",
    "df3 = bank.loc[bank['Region'] == 'Middle East and North Africa'].fillna({'Gov_Spending' : bank.Gov_Spending.mean(), \n",
    "           'Business_Freedom' : bank.Business_Freedom.mean(), \n",
    "           'Monetary_Freedom': bank.Monetary_Freedom.mean(),\n",
    "           'Investment_Freedom': bank.Investment_Freedom.mean(),\n",
    "           'Unemployment_Rate': bank.Unemployment_Rate.mean(),\n",
    "           'Inflation_Rate': bank.Inflation_Rate.mean(),})\n",
    "df4 = bank.loc[bank['Region'] == 'Sub-Saharan Africa'].fillna({'Gov_Spending' : bank.Gov_Spending.mean(), \n",
    "           'Business_Freedom' : bank.Business_Freedom.mean(), \n",
    "           'Monetary_Freedom': bank.Monetary_Freedom.mean(),\n",
    "           'Investment_Freedom': bank.Investment_Freedom.mean(),\n",
    "           'Unemployment_Rate': bank.Unemployment_Rate.mean(),\n",
    "           'Inflation_Rate': bank.Inflation_Rate.mean(),})\n",
    "df5 = bank.loc[bank['Region'] == 'Americas'].fillna({'Gov_Spending' : bank.Gov_Spending.mean(), \n",
    "           'Business_Freedom' : bank.Business_Freedom.mean(), \n",
    "           'Monetary_Freedom': bank.Monetary_Freedom.mean(),\n",
    "           'Investment_Freedom': bank.Investment_Freedom.mean(),\n",
    "           'Unemployment_Rate': bank.Unemployment_Rate.mean(),\n",
    "           'Inflation_Rate': bank.Inflation_Rate.mean(),})\n",
    "df6=bank['Step_Nego'].fillna('step3', inplace=True)\n",
    "data = pd.concat([df1,df2, df3, df4, df5, df6])\n",
    "data.head(3)\n",
    "data.isnull().sum()"
   ]
  },
  {
   "cell_type": "markdown",
   "metadata": {},
   "source": [
    "# Data Manipulation :"
   ]
  },
  {
   "cell_type": "markdown",
   "metadata": {},
   "source": [
    "### a) Find & Print the Maximum \"Gov_Spending\" country name"
   ]
  },
  {
   "cell_type": "code",
   "execution_count": 302,
   "metadata": {},
   "outputs": [
    {
     "data": {
      "text/html": [
       "<div>\n",
       "<style scoped>\n",
       "    .dataframe tbody tr th:only-of-type {\n",
       "        vertical-align: middle;\n",
       "    }\n",
       "\n",
       "    .dataframe tbody tr th {\n",
       "        vertical-align: top;\n",
       "    }\n",
       "\n",
       "    .dataframe thead th {\n",
       "        text-align: right;\n",
       "    }\n",
       "</style>\n",
       "<table border=\"1\" class=\"dataframe\">\n",
       "  <thead>\n",
       "    <tr style=\"text-align: right;\">\n",
       "      <th></th>\n",
       "      <th>ID_Num</th>\n",
       "      <th>Country</th>\n",
       "      <th>Region</th>\n",
       "      <th>IFM_Nigo</th>\n",
       "      <th>Step_Nego</th>\n",
       "      <th>Gov_Spending</th>\n",
       "      <th>Business_Freedom</th>\n",
       "      <th>Monetary_Freedom</th>\n",
       "      <th>Investment_Freedom</th>\n",
       "      <th>Population_Millions</th>\n",
       "      <th>GDP_Billions_PPP</th>\n",
       "      <th>Unemployment_Rate</th>\n",
       "      <th>Inflation_Rate</th>\n",
       "      <th>Public_Debt_rate_GDP</th>\n",
       "    </tr>\n",
       "  </thead>\n",
       "  <tbody>\n",
       "    <tr>\n",
       "      <th>147</th>\n",
       "      <td>148</td>\n",
       "      <td>Sudan</td>\n",
       "      <td>Sub-Saharan Africa</td>\n",
       "      <td>0</td>\n",
       "      <td>Step3</td>\n",
       "      <td>96.6</td>\n",
       "      <td>52.1</td>\n",
       "      <td>56.9</td>\n",
       "      <td>5.0</td>\n",
       "      <td>40.8</td>\n",
       "      <td>187.0</td>\n",
       "      <td>12.7</td>\n",
       "      <td>32.4</td>\n",
       "      <td>126.0</td>\n",
       "    </tr>\n",
       "  </tbody>\n",
       "</table>\n",
       "</div>"
      ],
      "text/plain": [
       "     ID_Num Country              Region  IFM_Nigo Step_Nego  Gov_Spending  \\\n",
       "147     148   Sudan  Sub-Saharan Africa         0     Step3          96.6   \n",
       "\n",
       "     Business_Freedom  Monetary_Freedom  Investment_Freedom  \\\n",
       "147              52.1              56.9                 5.0   \n",
       "\n",
       "     Population_Millions  GDP_Billions_PPP  Unemployment_Rate  Inflation_Rate  \\\n",
       "147                 40.8             187.0               12.7            32.4   \n",
       "\n",
       "     Public_Debt_rate_GDP  \n",
       "147                 126.0  "
      ]
     },
     "execution_count": 302,
     "metadata": {},
     "output_type": "execute_result"
    }
   ],
   "source": [
    "bank.loc[bank['Gov_Spending'] == bank.Gov_Spending.max()]"
   ]
  },
  {
   "cell_type": "markdown",
   "metadata": {},
   "source": [
    "b)Print the Minimum of \" Unemployment_Rate & Inflation_Rate\" by ‘Region’"
   ]
  },
  {
   "cell_type": "code",
   "execution_count": 303,
   "metadata": {},
   "outputs": [
    {
     "data": {
      "text/plain": [
       "Region\n",
       "Americas                        2.6\n",
       "Asia-Pacific                    0.2\n",
       "Europe                          0.5\n",
       "Middle East and North Africa    0.1\n",
       "Sub-Saharan Africa              0.4\n",
       "Name: Unemployment_Rate, dtype: float64"
      ]
     },
     "execution_count": 303,
     "metadata": {},
     "output_type": "execute_result"
    }
   ],
   "source": [
    "bank.groupby('Region').Unemployment_Rate.min()"
   ]
  },
  {
   "cell_type": "code",
   "execution_count": 304,
   "metadata": {},
   "outputs": [
    {
     "data": {
      "text/plain": [
       "Region\n",
       "Americas                        0.1\n",
       "Asia-Pacific                   -0.4\n",
       "Europe                          0.3\n",
       "Middle East and North Africa   -0.9\n",
       "Sub-Saharan Africa             -0.9\n",
       "Name: Inflation_Rate, dtype: float64"
      ]
     },
     "execution_count": 304,
     "metadata": {},
     "output_type": "execute_result"
    }
   ],
   "source": [
    "bank.groupby('Region').Inflation_Rate.min()"
   ]
  },
  {
   "cell_type": "markdown",
   "metadata": {},
   "source": [
    " c) Find the average Public_Debt_rate_GDP by ‘Region"
   ]
  },
  {
   "cell_type": "code",
   "execution_count": 264,
   "metadata": {},
   "outputs": [
    {
     "data": {
      "text/plain": [
       "Region\n",
       "Americas                        57.541935\n",
       "Asia-Pacific                    47.772500\n",
       "Europe                          60.858140\n",
       "Middle East and North Africa    61.500000\n",
       "Sub-Saharan Africa              58.228261\n",
       "Name: Public_Debt_rate_GDP, dtype: float64"
      ]
     },
     "execution_count": 264,
     "metadata": {},
     "output_type": "execute_result"
    }
   ],
   "source": [
    "bank.groupby('Region').Public_Debt_rate_GDP.mean()"
   ]
  },
  {
   "cell_type": "markdown",
   "metadata": {},
   "source": [
    "d)Using the loop(for ... in ... ) to"
   ]
  },
  {
   "cell_type": "code",
   "execution_count": 265,
   "metadata": {},
   "outputs": [],
   "source": [
    " df=bank.groupby('Region').Gov_Spending.max()"
   ]
  },
  {
   "cell_type": "code",
   "execution_count": 266,
   "metadata": {},
   "outputs": [
    {
     "data": {
      "text/plain": [
       "Index(['Americas', 'Asia-Pacific', 'Europe', 'Middle East and North Africa',\n",
       "       'Sub-Saharan Africa'],\n",
       "      dtype='object', name='Region')"
      ]
     },
     "execution_count": 266,
     "metadata": {},
     "output_type": "execute_result"
    }
   ],
   "source": [
    "df.index"
   ]
  },
  {
   "cell_type": "code",
   "execution_count": 267,
   "metadata": {},
   "outputs": [
    {
     "name": "stdout",
     "output_type": "stream",
     "text": [
      "Americas 95.6\n",
      "Asia-Pacific 94.5\n",
      "Europe 77.4\n",
      "Middle East and North Africa 89.8\n",
      "Sub-Saharan Africa 96.6\n"
     ]
    }
   ],
   "source": [
    "for index in df.index:\n",
    "    print (index,df[index])"
   ]
  },
  {
   "cell_type": "markdown",
   "metadata": {},
   "source": [
    "# Data Visualization"
   ]
  },
  {
   "cell_type": "markdown",
   "metadata": {},
   "source": [
    "### a) The graph of the maximum of ( Unemployment_Rate & Inflation_Rate ) by ‘region’ "
   ]
  },
  {
   "cell_type": "code",
   "execution_count": 268,
   "metadata": {},
   "outputs": [
    {
     "data": {
      "image/png": "[encoded data removed]",
      "text/plain": [
       "<Figure size 720x432 with 1 Axes>"
      ]
     },
     "metadata": {
      "needs_background": "light"
     },
     "output_type": "display_data"
    }
   ],
   "source": [
    "plt.figure(figsize=(10,6))\n",
    "region= bank[\"Region\"].tolist()\n",
    "un_rate=bank[\"Unemployment_Rate\"].tolist()\n",
    "in_rate=bank[\"Inflation_Rate\"].tolist()\n",
    "width=0.25\n",
    "\n",
    "\n",
    "plt.bar(region,un_rate,width,alpha=0.5,color=\"b\",label=bank[\"Unemployment_Rate\"].tolist())\n",
    "plt.bar(region,in_rate,width,alpha=0.5,color=\"g\",label=bank[\"Inflation_Rate\"].tolist())\n",
    "\n",
    "ax.set_ylabel('maximun')\n",
    "ax.set_title('max by Region')\n",
    "\n",
    "plt.legend([\"Unemployment_Rate\",\"Inflation_Rate\"], loc='upper left')\n",
    "plt.xlabel('Region')\n",
    "plt.ylabel('Max Value')\n",
    "plt.show()"
   ]
  },
  {
   "cell_type": "markdown",
   "metadata": {},
   "source": [
    "### b) Read the minimum 'Gov_Spending' by ‘Step_Nego’ and show it using a Pie chart "
   ]
  },
  {
   "cell_type": "code",
   "execution_count": 313,
   "metadata": {},
   "outputs": [
    {
     "data": {
      "image/png": "[encoded data removed]",
      "text/plain": [
       "<Figure size 432x288 with 1 Axes>"
      ]
     },
     "metadata": {},
     "output_type": "display_data"
    }
   ],
   "source": [
    "bank.groupby('Step_Nego').Gov_Spending.min().plot(kind = 'pie')\n",
    "plt.title (' minimum Gov_Spending by Step_Nego' )\n",
    "plt.axis (\"equal\")\n",
    "plt.show ()"
   ]
  },
  {
   "cell_type": "markdown",
   "metadata": {},
   "source": [
    "### c) Read the “Business_Freedom” of each country and show it using the histogram to see five‘BusinessFreedom’ ranges (0-20, 21-40, 41-60, 61-80, 81-100 )"
   ]
  },
  {
   "cell_type": "code",
   "execution_count": 346,
   "metadata": {},
   "outputs": [
    {
     "data": {
      "image/png": "[encoded data removed]",
      "text/plain": [
       "<Figure size 432x288 with 1 Axes>"
      ]
     },
     "metadata": {
      "needs_background": "light"
     },
     "output_type": "display_data"
    }
   ],
   "source": [
    "List = bank ['Business_Freedom'].tolist()\n",
    "List\n",
    "\n",
    "labels = ['very low','low', 'average', 'Good', 'very good', 'Excellent']\n",
    "\n",
    "range = [0,20, 40, 60, 80, 100]\n",
    "\n",
    "plt.hist(List, range, label = 'Business_Freedom')\n",
    "\n",
    "plt.xlabel('Country')\n",
    "plt.ylabel('Business_Freedom')\n",
    "plt.legend(loc='upper left')\n",
    "plt.xticks(range)\n",
    "plt.title('Business_Freedom of each country')\n",
    "plt.show()"
   ]
  },
  {
   "cell_type": "markdown",
   "metadata": {},
   "source": [
    "### d) The graph of the Max of ' Monetary_Freedom', & 'Investment_Freedom of the “Middle East and North Africa” region countries."
   ]
  },
  {
   "cell_type": "code",
   "execution_count": 311,
   "metadata": {},
   "outputs": [
    {
     "data": {
      "image/png": "[encoded data removed]",
      "text/plain": [
       "<Figure size 432x288 with 1 Axes>"
      ]
     },
     "metadata": {
      "needs_background": "light"
     },
     "output_type": "display_data"
    }
   ],
   "source": [
    "region=bank[bank[\"Region\"]==\"Middle East and North Africa\"]\n",
    "d=pd.pivot_table(region,index=[\"Country\"],values=(\"Investment_Freedom\",\"Monetary_Freedom\"),aggfunc=np.max)\n",
    "\n",
    " \n",
    "\n",
    "country=bank[\"Country\"].tolist()\n",
    "x1=d[\"Monetary_Freedom\"].tolist()\n",
    "x2=d[\"Investment_Freedom\"].tolist()\n",
    "\n",
    " \n",
    "\n",
    "df=pd.DataFrame({\"Investment_Freedom\":x1,\"Monetary_Freedom\":x2},index=region)\n",
    "ax = df.plot.barh(rot=0)\n",
    "plt.show()"
   ]
  },
  {
   "cell_type": "markdown",
   "metadata": {},
   "source": [
    "# Question 2 : Machine Learning"
   ]
  },
  {
   "cell_type": "markdown",
   "metadata": {},
   "source": [
    "### a)Supervised Machine Learning Algorithm"
   ]
  },
  {
   "cell_type": "code",
   "execution_count": 349,
   "metadata": {},
   "outputs": [],
   "source": [
    "from sklearn.linear_model import LinearRegression\n",
    "from sklearn.model_selection import train_test_split\n",
    "from sklearn.linear_model import LogisticRegression\n",
    "from sklearn import metrics\n",
    "import seaborn as sn"
   ]
  },
  {
   "cell_type": "code",
   "execution_count": 350,
   "metadata": {},
   "outputs": [
    {
     "data": {
      "image/png": "[encoded data removed]",
      "text/plain": [
       "<Figure size 432x288 with 1 Axes>"
      ]
     },
     "metadata": {
      "needs_background": "light"
     },
     "output_type": "display_data"
    }
   ],
   "source": [
    "x1 = bank[\"Business_Freedom\"]\n",
    "x2 = bank[\"Monetary_Freedom\"]\n",
    "x3 = bank[\"Investment_Freedom\"]\n",
    "x4 = bank[\"Unemployment_Rate\"]\n",
    "x5 = bank[\"Inflation_Rate\"]\n",
    "\n",
    "\n",
    "plt.plot(x1)\n",
    "plt.plot(x2)\n",
    "plt.plot(x3)\n",
    "plt.plot(x4)\n",
    "plt.plot(x5)\n",
    "\n",
    "plt.show()"
   ]
  },
  {
   "cell_type": "code",
   "execution_count": 352,
   "metadata": {},
   "outputs": [],
   "source": [
    "X = data[[\"Business_Freedom\",\"Monetary_Freedom\",\"Investment_Freedom\",\"Unemployment_Rate\",\"Inflation_Rate\"]]\n",
    "y = data[\"IFM_Nigo\"]\n",
    "X_train,X_test,y_train,y_test = train_test_split(X,y,test_size=0.25,random_state=0)"
   ]
  },
  {
   "cell_type": "code",
   "execution_count": 353,
   "metadata": {},
   "outputs": [],
   "source": [
    "logistic_regression= LogisticRegression()\n",
    "logistic_regression.fit(X_train,y_train)\n",
    "y_pred=logistic_regression.predict(X_test)"
   ]
  },
  {
   "cell_type": "code",
   "execution_count": 354,
   "metadata": {},
   "outputs": [
    {
     "data": {
      "text/plain": [
       "<AxesSubplot:xlabel='Predicted', ylabel='Actual'>"
      ]
     },
     "execution_count": 354,
     "metadata": {},
     "output_type": "execute_result"
    },
    {
     "data": {
      "image/png": "[encoded data removed]",
      "text/plain": [
       "<Figure size 432x288 with 2 Axes>"
      ]
     },
     "metadata": {
      "needs_background": "light"
     },
     "output_type": "display_data"
    }
   ],
   "source": [
    "confusion_matrix = pd.crosstab(y_test, y_pred, rownames=['Actual'], colnames=['Predicted'])\n",
    "sn.heatmap(confusion_matrix, annot=True)"
   ]
  },
  {
   "cell_type": "code",
   "execution_count": 355,
   "metadata": {},
   "outputs": [
    {
     "name": "stdout",
     "output_type": "stream",
     "text": [
      "Accuracy:  0.7954545454545454\n",
      "Precision: 0.7727272727272727\n",
      "Recall: 0.8095238095238095\n"
     ]
    }
   ],
   "source": [
    "print('Accuracy: ',metrics.accuracy_score(y_test, y_pred))\n",
    "print(\"Precision:\",metrics.precision_score(y_test, y_pred))\n",
    "print(\"Recall:\",metrics.recall_score(y_test, y_pred))"
   ]
  },
  {
   "cell_type": "code",
   "execution_count": 356,
   "metadata": {},
   "outputs": [
    {
     "name": "stdout",
     "output_type": "stream",
     "text": [
      "     Business_Freedom  Monetary_Freedom  Investment_Freedom  \\\n",
      "61          85.800000         76.000000                80.0   \n",
      "18          58.800000         68.800000                15.0   \n",
      "94          68.800000         82.600000                95.0   \n",
      "62          83.300000         77.900000                80.0   \n",
      "92          50.600000         68.900000                55.0   \n",
      "26          50.300000         62.200000                50.0   \n",
      "28          29.900000         79.400000                60.0   \n",
      "50          57.200000         79.000000                75.0   \n",
      "116         56.300000         76.700000                55.0   \n",
      "86          57.400000         70.600000                55.0   \n",
      "156         50.400000         79.100000                65.0   \n",
      "9           68.500000         78.100000                50.0   \n",
      "22          80.200000         76.500000                65.0   \n",
      "3           55.700000         55.400000                30.0   \n",
      "121         73.600000         79.400000                75.0   \n",
      "128         71.200000         78.400000                60.0   \n",
      "154         82.500000         75.200000                55.0   \n",
      "95          60.000000         76.500000                85.0   \n",
      "89          77.500000         81.100000                85.0   \n",
      "53          75.300000         79.600000                90.0   \n",
      "106         67.000000         73.500000                55.0   \n",
      "168         72.500000         58.900000                10.0   \n",
      "17          68.700000         72.600000                20.0   \n",
      "98          41.700000         65.500000                50.0   \n",
      "79          71.700000         84.000000                85.0   \n",
      "46          54.700000         72.700000                80.0   \n",
      "101         53.800000         81.600000                65.0   \n",
      "35          71.400000         75.682659                80.0   \n",
      "51          37.600000         83.700000                40.0   \n",
      "70          56.900000         73.000000                65.0   \n",
      "125         61.300000         69.600000                60.0   \n",
      "64          74.100000         79.100000                55.0   \n",
      "144         64.466474         75.200000                45.0   \n",
      "19          49.700000         83.100000                65.0   \n",
      "34          56.200000         71.900000                25.0   \n",
      "14          78.100000         76.100000                85.0   \n",
      "160         66.000000         70.000000                70.0   \n",
      "38          38.200000         82.600000                45.0   \n",
      "16          62.400000         86.400000                70.0   \n",
      "158         67.800000         75.100000                60.0   \n",
      "120         56.100000         72.600000                55.0   \n",
      "146         75.100000         70.100000                40.0   \n",
      "119         75.200000         77.700000                65.0   \n",
      "52          17.700000         61.000000                 2.0   \n",
      "\n",
      "     Unemployment_Rate  Inflation_Rate  \n",
      "61                11.6        6.000000  \n",
      "18                 3.1        2.800000  \n",
      "94                 5.5        2.100000  \n",
      "62                 3.8        1.700000  \n",
      "92                 2.4       12.400000  \n",
      "26                 1.6       16.600000  \n",
      "28                 0.2        2.900000  \n",
      "50                 4.5        1.000000  \n",
      "116                0.4        2.400000  \n",
      "86                 2.1        1.500000  \n",
      "156                1.8       -0.700000  \n",
      "9                 12.6        1.400000  \n",
      "22                 7.1       -0.100000  \n",
      "3                  8.2       31.700000  \n",
      "121                4.5        0.900000  \n",
      "128                0.1        0.400000  \n",
      "154                1.1        0.700000  \n",
      "95                 2.0        1.200000  \n",
      "89                 8.7        2.900000  \n",
      "53                 5.8        3.700000  \n",
      "106                4.5        6.600000  \n",
      "168                7.2       12.500000  \n",
      "17                 2.4        3.400000  \n",
      "98                 5.9       11.500000  \n",
      "79                11.2        1.300000  \n",
      "46                 5.8        0.700000  \n",
      "101                7.9        1.800000  \n",
      "35                 8.9        4.300000  \n",
      "51                 6.9        0.700000  \n",
      "70                 4.5        3.900000  \n",
      "125                2.4        3.200000  \n",
      "64                21.5        1.100000  \n",
      "144               27.3        5.300000  \n",
      "19                25.6        1.300000  \n",
      "34                 4.7        1.600000  \n",
      "14                 7.4        2.200000  \n",
      "160               11.3       10.837572  \n",
      "38                11.0        0.500000  \n",
      "16                 2.5        0.100000  \n",
      "158                4.8        1.900000  \n",
      "120                4.0        4.100000  \n",
      "146                4.1        6.500000  \n",
      "119                3.3        1.600000  \n",
      "52                 6.4        9.000000  \n",
      "************************************************\n",
      "[1 0 1 1 0 0 0 1 0 0 1 0 1 0 1 1 1 1 1 1 1 0 0 0 1 1 0 1 0 0 1 0 0 0 0 1 1\n",
      " 0 1 1 0 0 1 0]\n"
     ]
    }
   ],
   "source": [
    "logistic_regression= LogisticRegression()\n",
    "logistic_regression.fit(X_train,y_train)\n",
    "y_pred=logistic_regression.predict(X_test)\n",
    "\n",
    "print(X_test) #test dataset (without the actual outcome)\n",
    "print(\"************************************************\")\n",
    "print (y_pred) #predicted values"
   ]
  },
  {
   "cell_type": "code",
   "execution_count": 357,
   "metadata": {},
   "outputs": [
    {
     "name": "stdout",
     "output_type": "stream",
     "text": [
      "[1 0 1 1 0 0 0 1 0 0 1 0 1 0 1 1 1 1 1 1 1 0 0 0 1 1 0 1 0 0 1 0 0 0 0 1 1\n",
      " 0 1 1 0 0 1 0]\n"
     ]
    }
   ],
   "source": [
    "print (y_pred)"
   ]
  },
  {
   "cell_type": "code",
   "execution_count": 358,
   "metadata": {},
   "outputs": [
    {
     "name": "stdout",
     "output_type": "stream",
     "text": [
      "Intercept: \n",
      " [-40.37977565]\n",
      "Coefficients: \n",
      " [[ 0.2800233   0.12823173  0.25633908 -0.31254289 -0.04364248]]\n"
     ]
    }
   ],
   "source": [
    "logistic_regression= LogisticRegression()\n",
    "logistic_regression.fit(X_train,y_train)\n",
    "y_pred=logistic_regression.predict(X_test)\n",
    "print('Intercept: \\n', logistic_regression.intercept_)\n",
    "print('Coefficients: \\n', logistic_regression.coef_)"
   ]
  },
  {
   "cell_type": "code",
   "execution_count": 359,
   "metadata": {},
   "outputs": [
    {
     "name": "stdout",
     "output_type": "stream",
     "text": [
      "Optimization terminated successfully.\n",
      "         Current function value: 0.236555\n",
      "         Iterations 11\n",
      "                           Logit Regression Results                           \n",
      "==============================================================================\n",
      "Dep. Variable:               IFM_Nigo   No. Observations:                  174\n",
      "Model:                          Logit   Df Residuals:                      168\n",
      "Method:                           MLE   Df Model:                            5\n",
      "Date:                Sat, 19 Dec 2020   Pseudo R-squ.:                  0.6587\n",
      "Time:                        18:24:24   Log-Likelihood:                -41.161\n",
      "converged:                       True   LL-Null:                       -120.61\n",
      "Covariance Type:            nonrobust   LLR p-value:                 1.703e-32\n",
      "======================================================================================\n",
      "                         coef    std err          z      P>|z|      [0.025      0.975]\n",
      "--------------------------------------------------------------------------------------\n",
      "const                -21.3595      6.665     -3.205      0.001     -34.422      -8.297\n",
      "Business_Freedom       0.1633      0.036      4.495      0.000       0.092       0.235\n",
      "Monetary_Freedom       0.0539      0.078      0.691      0.490      -0.099       0.207\n",
      "Investment_Freedom     0.1278      0.027      4.775      0.000       0.075       0.180\n",
      "Unemployment_Rate     -0.0889      0.054     -1.654      0.098      -0.194       0.016\n",
      "Inflation_Rate        -0.0554      0.114     -0.488      0.626      -0.278       0.167\n",
      "======================================================================================\n"
     ]
    }
   ],
   "source": [
    "import statsmodels.api as sm\n",
    "X= sm.add_constant(X)\n",
    "logit_model = sm.Logit(y, X).fit()\n",
    "print (logit_model.summary())"
   ]
  },
  {
   "cell_type": "markdown",
   "metadata": {},
   "source": [
    "### b) Unsupervised Machine Learning A lgorithm:"
   ]
  },
  {
   "cell_type": "code",
   "execution_count": 335,
   "metadata": {},
   "outputs": [
    {
     "data": {
      "text/html": [
       "<div>\n",
       "<style scoped>\n",
       "    .dataframe tbody tr th:only-of-type {\n",
       "        vertical-align: middle;\n",
       "    }\n",
       "\n",
       "    .dataframe tbody tr th {\n",
       "        vertical-align: top;\n",
       "    }\n",
       "\n",
       "    .dataframe thead th {\n",
       "        text-align: right;\n",
       "    }\n",
       "</style>\n",
       "<table border=\"1\" class=\"dataframe\">\n",
       "  <thead>\n",
       "    <tr style=\"text-align: right;\">\n",
       "      <th></th>\n",
       "      <th>x</th>\n",
       "      <th>y</th>\n",
       "    </tr>\n",
       "  </thead>\n",
       "  <tbody>\n",
       "    <tr>\n",
       "      <th>0</th>\n",
       "      <td>8.8</td>\n",
       "      <td>5.0</td>\n",
       "    </tr>\n",
       "    <tr>\n",
       "      <th>1</th>\n",
       "      <td>5.6</td>\n",
       "      <td>2.0</td>\n",
       "    </tr>\n",
       "    <tr>\n",
       "      <th>2</th>\n",
       "      <td>5.0</td>\n",
       "      <td>13.0</td>\n",
       "    </tr>\n",
       "    <tr>\n",
       "      <th>3</th>\n",
       "      <td>4.4</td>\n",
       "      <td>5.7</td>\n",
       "    </tr>\n",
       "    <tr>\n",
       "      <th>4</th>\n",
       "      <td>2.4</td>\n",
       "      <td>3.4</td>\n",
       "    </tr>\n",
       "  </tbody>\n",
       "</table>\n",
       "</div>"
      ],
      "text/plain": [
       "     x     y\n",
       "0  8.8   5.0\n",
       "1  5.6   2.0\n",
       "2  5.0  13.0\n",
       "3  4.4   5.7\n",
       "4  2.4   3.4"
      ]
     },
     "execution_count": 335,
     "metadata": {},
     "output_type": "execute_result"
    }
   ],
   "source": [
    "from sklearn.preprocessing import MinMaxScaler\n",
    "from sklearn.cluster import KMeans\n",
    "\n",
    "import matplotlib.pyplot as plt\n",
    "from pandas import DataFrame\n",
    "\n",
    "u1= data[\"Unemployment_Rate\"].tolist()\n",
    "u2= data[\"Inflation_Rate\"].tolist()\n",
    "\n",
    "Data = {\"x\": u1, \"y\": u2}\n",
    "df = DataFrame(Data,columns=[\"x\",\"y\"])\n",
    "df.head()"
   ]
  },
  {
   "cell_type": "code",
   "execution_count": 336,
   "metadata": {},
   "outputs": [
    {
     "data": {
      "text/plain": [
       "<matplotlib.collections.PathCollection at 0x1b75966f100>"
      ]
     },
     "execution_count": 336,
     "metadata": {},
     "output_type": "execute_result"
    },
    {
     "data": {
      "image/png": "[encoded data removed]",
      "text/plain": [
       "<Figure size 432x432 with 1 Axes>"
      ]
     },
     "metadata": {
      "needs_background": "light"
     },
     "output_type": "display_data"
    }
   ],
   "source": [
    "plt.figure(figsize=(6, 6))\n",
    "plt.scatter(df[\"x\"], df['y'], s=20)"
   ]
  },
  {
   "cell_type": "code",
   "execution_count": 339,
   "metadata": {},
   "outputs": [
    {
     "name": "stdout",
     "output_type": "stream",
     "text": [
      "[[   5.05600897    3.13358209]\n",
      " [   7.7        1087.5       ]\n",
      " [  17.57931034    4.69095077]\n",
      " [   7.61         24.23      ]]\n"
     ]
    }
   ],
   "source": [
    "kmeans = KMeans(n_clusters=4).fit(df)\n",
    "centroids = kmeans.cluster_centers_\n",
    "\n",
    "print(centroids)"
   ]
  },
  {
   "cell_type": "code",
   "execution_count": 340,
   "metadata": {},
   "outputs": [
    {
     "data": {
      "text/plain": [
       "<matplotlib.collections.PathCollection at 0x1b756bf1640>"
      ]
     },
     "execution_count": 340,
     "metadata": {},
     "output_type": "execute_result"
    },
    {
     "data": {
      "image/png": "[encoded data removed]",
      "text/plain": [
       "<Figure size 432x288 with 1 Axes>"
      ]
     },
     "metadata": {
      "needs_background": "light"
     },
     "output_type": "display_data"
    }
   ],
   "source": [
    "plt.scatter(df['x'], df['y'], c= kmeans.labels_.astype(float), s=50, alpha=0.9)\n",
    "plt.scatter(centroids[:, 0], centroids[:, 1], c='red', s=100)"
   ]
  },
  {
   "cell_type": "code",
   "execution_count": 341,
   "metadata": {},
   "outputs": [],
   "source": [
    "distortions = []\n",
    "K = range(1,10)\n",
    "for k in K:\n",
    "    kmeanModel = KMeans(n_clusters=k)\n",
    "    kmeanModel.fit(df)\n",
    "    distortions.append(kmeanModel.inertia_)"
   ]
  },
  {
   "cell_type": "code",
   "execution_count": 343,
   "metadata": {},
   "outputs": [
    {
     "data": {
      "image/png": "[encoded data removed]",
      "text/plain": [
       "<Figure size 576x288 with 1 Axes>"
      ]
     },
     "metadata": {
      "needs_background": "light"
     },
     "output_type": "display_data"
    }
   ],
   "source": [
    "plt.figure(figsize=(8,4))\n",
    "plt.plot(K, distortions, 'bx-')\n",
    "plt.xlabel('k')\n",
    "plt.ylabel('Distortion')\n",
    "plt.title('The Elbow Method showing the optimal k')\n",
    "plt.show()"
   ]
  },
  {
   "cell_type": "markdown",
   "metadata": {},
   "source": [
    "# Question 3:Web Data Analysis"
   ]
  },
  {
   "cell_type": "markdown",
   "metadata": {},
   "source": [
    "### For each Dataframe (Amazon, Google, Facebook)"
   ]
  },
  {
   "cell_type": "code",
   "execution_count": 2,
   "metadata": {},
   "outputs": [],
   "source": [
    "import numpy as np\n",
    "import matplotlib.pyplot as plt  # To visualize\n",
    "from sklearn.linear_model import LinearRegression\n",
    "import sklearn\n",
    "from sklearn import linear_model\n",
    "import statsmodels.api as sm\n",
    "import pandas_datareader.data as web\n",
    "import datetime"
   ]
  },
  {
   "cell_type": "code",
   "execution_count": 3,
   "metadata": {},
   "outputs": [],
   "source": [
    "start= datetime.datetime(2018, 1, 1)\n",
    "end = datetime.datetime(2020, 12, 15)\n",
    "amzn = web.DataReader( 'AMZN', 'yahoo', start, end)\n",
    "fb = web.DataReader( 'FB', 'yahoo', start, end)\n",
    "goog = web.DataReader( 'GOOG', 'yahoo', start, end)\n",
    " "
   ]
  },
  {
   "cell_type": "code",
   "execution_count": 4,
   "metadata": {},
   "outputs": [],
   "source": [
    "amzn['returns'] = (amzn['Close'] / amzn['Close'].shift(1) ) - 1\n",
    "fb['returns'] = (fb['Close'] / fb['Close'].shift(1) ) - 1\n",
    "goog['returns'] = (goog['Close'] / goog['Close'].shift(1) ) - 1"
   ]
  },
  {
   "cell_type": "code",
   "execution_count": 5,
   "metadata": {},
   "outputs": [
    {
     "data": {
      "text/html": [
       "<div>\n",
       "<style scoped>\n",
       "    .dataframe tbody tr th:only-of-type {\n",
       "        vertical-align: middle;\n",
       "    }\n",
       "\n",
       "    .dataframe tbody tr th {\n",
       "        vertical-align: top;\n",
       "    }\n",
       "\n",
       "    .dataframe thead th {\n",
       "        text-align: right;\n",
       "    }\n",
       "</style>\n",
       "<table border=\"1\" class=\"dataframe\">\n",
       "  <thead>\n",
       "    <tr style=\"text-align: right;\">\n",
       "      <th></th>\n",
       "      <th>High</th>\n",
       "      <th>Low</th>\n",
       "      <th>Open</th>\n",
       "      <th>Close</th>\n",
       "      <th>Volume</th>\n",
       "      <th>Adj Close</th>\n",
       "      <th>returns</th>\n",
       "    </tr>\n",
       "    <tr>\n",
       "      <th>Date</th>\n",
       "      <th></th>\n",
       "      <th></th>\n",
       "      <th></th>\n",
       "      <th></th>\n",
       "      <th></th>\n",
       "      <th></th>\n",
       "      <th></th>\n",
       "    </tr>\n",
       "  </thead>\n",
       "  <tbody>\n",
       "    <tr>\n",
       "      <th>2018-01-02</th>\n",
       "      <td>1190.000000</td>\n",
       "      <td>1170.510010</td>\n",
       "      <td>1172.000000</td>\n",
       "      <td>1189.010010</td>\n",
       "      <td>2694500</td>\n",
       "      <td>1189.010010</td>\n",
       "      <td>NaN</td>\n",
       "    </tr>\n",
       "    <tr>\n",
       "      <th>2018-01-03</th>\n",
       "      <td>1205.489990</td>\n",
       "      <td>1188.300049</td>\n",
       "      <td>1188.300049</td>\n",
       "      <td>1204.199951</td>\n",
       "      <td>3108800</td>\n",
       "      <td>1204.199951</td>\n",
       "      <td>0.012775</td>\n",
       "    </tr>\n",
       "    <tr>\n",
       "      <th>2018-01-04</th>\n",
       "      <td>1215.869995</td>\n",
       "      <td>1204.660034</td>\n",
       "      <td>1205.000000</td>\n",
       "      <td>1209.589966</td>\n",
       "      <td>3022100</td>\n",
       "      <td>1209.589966</td>\n",
       "      <td>0.004476</td>\n",
       "    </tr>\n",
       "    <tr>\n",
       "      <th>2018-01-05</th>\n",
       "      <td>1229.140015</td>\n",
       "      <td>1210.000000</td>\n",
       "      <td>1217.510010</td>\n",
       "      <td>1229.140015</td>\n",
       "      <td>3544700</td>\n",
       "      <td>1229.140015</td>\n",
       "      <td>0.016163</td>\n",
       "    </tr>\n",
       "    <tr>\n",
       "      <th>2018-01-08</th>\n",
       "      <td>1253.079956</td>\n",
       "      <td>1232.030029</td>\n",
       "      <td>1236.000000</td>\n",
       "      <td>1246.869995</td>\n",
       "      <td>4279500</td>\n",
       "      <td>1246.869995</td>\n",
       "      <td>0.014425</td>\n",
       "    </tr>\n",
       "  </tbody>\n",
       "</table>\n",
       "</div>"
      ],
      "text/plain": [
       "                   High          Low         Open        Close   Volume  \\\n",
       "Date                                                                      \n",
       "2018-01-02  1190.000000  1170.510010  1172.000000  1189.010010  2694500   \n",
       "2018-01-03  1205.489990  1188.300049  1188.300049  1204.199951  3108800   \n",
       "2018-01-04  1215.869995  1204.660034  1205.000000  1209.589966  3022100   \n",
       "2018-01-05  1229.140015  1210.000000  1217.510010  1229.140015  3544700   \n",
       "2018-01-08  1253.079956  1232.030029  1236.000000  1246.869995  4279500   \n",
       "\n",
       "              Adj Close   returns  \n",
       "Date                               \n",
       "2018-01-02  1189.010010       NaN  \n",
       "2018-01-03  1204.199951  0.012775  \n",
       "2018-01-04  1209.589966  0.004476  \n",
       "2018-01-05  1229.140015  0.016163  \n",
       "2018-01-08  1246.869995  0.014425  "
      ]
     },
     "execution_count": 5,
     "metadata": {},
     "output_type": "execute_result"
    }
   ],
   "source": [
    "amzn.head()"
   ]
  },
  {
   "cell_type": "code",
   "execution_count": 6,
   "metadata": {},
   "outputs": [
    {
     "data": {
      "text/html": [
       "<div>\n",
       "<style scoped>\n",
       "    .dataframe tbody tr th:only-of-type {\n",
       "        vertical-align: middle;\n",
       "    }\n",
       "\n",
       "    .dataframe tbody tr th {\n",
       "        vertical-align: top;\n",
       "    }\n",
       "\n",
       "    .dataframe thead th {\n",
       "        text-align: right;\n",
       "    }\n",
       "</style>\n",
       "<table border=\"1\" class=\"dataframe\">\n",
       "  <thead>\n",
       "    <tr style=\"text-align: right;\">\n",
       "      <th></th>\n",
       "      <th>High</th>\n",
       "      <th>Low</th>\n",
       "      <th>Open</th>\n",
       "      <th>Close</th>\n",
       "      <th>Volume</th>\n",
       "      <th>Adj Close</th>\n",
       "      <th>returns</th>\n",
       "    </tr>\n",
       "    <tr>\n",
       "      <th>Date</th>\n",
       "      <th></th>\n",
       "      <th></th>\n",
       "      <th></th>\n",
       "      <th></th>\n",
       "      <th></th>\n",
       "      <th></th>\n",
       "      <th></th>\n",
       "    </tr>\n",
       "  </thead>\n",
       "  <tbody>\n",
       "    <tr>\n",
       "      <th>2018-01-02</th>\n",
       "      <td>181.580002</td>\n",
       "      <td>177.550003</td>\n",
       "      <td>177.679993</td>\n",
       "      <td>181.419998</td>\n",
       "      <td>18151900</td>\n",
       "      <td>181.419998</td>\n",
       "      <td>NaN</td>\n",
       "    </tr>\n",
       "    <tr>\n",
       "      <th>2018-01-03</th>\n",
       "      <td>184.779999</td>\n",
       "      <td>181.330002</td>\n",
       "      <td>181.880005</td>\n",
       "      <td>184.669998</td>\n",
       "      <td>16886600</td>\n",
       "      <td>184.669998</td>\n",
       "      <td>0.017914</td>\n",
       "    </tr>\n",
       "    <tr>\n",
       "      <th>2018-01-04</th>\n",
       "      <td>186.210007</td>\n",
       "      <td>184.100006</td>\n",
       "      <td>184.899994</td>\n",
       "      <td>184.330002</td>\n",
       "      <td>13880900</td>\n",
       "      <td>184.330002</td>\n",
       "      <td>-0.001841</td>\n",
       "    </tr>\n",
       "    <tr>\n",
       "      <th>2018-01-05</th>\n",
       "      <td>186.899994</td>\n",
       "      <td>184.929993</td>\n",
       "      <td>185.589996</td>\n",
       "      <td>186.850006</td>\n",
       "      <td>13574500</td>\n",
       "      <td>186.850006</td>\n",
       "      <td>0.013671</td>\n",
       "    </tr>\n",
       "    <tr>\n",
       "      <th>2018-01-08</th>\n",
       "      <td>188.899994</td>\n",
       "      <td>186.330002</td>\n",
       "      <td>187.199997</td>\n",
       "      <td>188.279999</td>\n",
       "      <td>17994700</td>\n",
       "      <td>188.279999</td>\n",
       "      <td>0.007653</td>\n",
       "    </tr>\n",
       "  </tbody>\n",
       "</table>\n",
       "</div>"
      ],
      "text/plain": [
       "                  High         Low        Open       Close    Volume  \\\n",
       "Date                                                                   \n",
       "2018-01-02  181.580002  177.550003  177.679993  181.419998  18151900   \n",
       "2018-01-03  184.779999  181.330002  181.880005  184.669998  16886600   \n",
       "2018-01-04  186.210007  184.100006  184.899994  184.330002  13880900   \n",
       "2018-01-05  186.899994  184.929993  185.589996  186.850006  13574500   \n",
       "2018-01-08  188.899994  186.330002  187.199997  188.279999  17994700   \n",
       "\n",
       "             Adj Close   returns  \n",
       "Date                              \n",
       "2018-01-02  181.419998       NaN  \n",
       "2018-01-03  184.669998  0.017914  \n",
       "2018-01-04  184.330002 -0.001841  \n",
       "2018-01-05  186.850006  0.013671  \n",
       "2018-01-08  188.279999  0.007653  "
      ]
     },
     "execution_count": 6,
     "metadata": {},
     "output_type": "execute_result"
    }
   ],
   "source": [
    "fb.head()"
   ]
  },
  {
   "cell_type": "code",
   "execution_count": 7,
   "metadata": {},
   "outputs": [
    {
     "data": {
      "text/html": [
       "<div>\n",
       "<style scoped>\n",
       "    .dataframe tbody tr th:only-of-type {\n",
       "        vertical-align: middle;\n",
       "    }\n",
       "\n",
       "    .dataframe tbody tr th {\n",
       "        vertical-align: top;\n",
       "    }\n",
       "\n",
       "    .dataframe thead th {\n",
       "        text-align: right;\n",
       "    }\n",
       "</style>\n",
       "<table border=\"1\" class=\"dataframe\">\n",
       "  <thead>\n",
       "    <tr style=\"text-align: right;\">\n",
       "      <th></th>\n",
       "      <th>High</th>\n",
       "      <th>Low</th>\n",
       "      <th>Open</th>\n",
       "      <th>Close</th>\n",
       "      <th>Volume</th>\n",
       "      <th>Adj Close</th>\n",
       "      <th>returns</th>\n",
       "    </tr>\n",
       "    <tr>\n",
       "      <th>Date</th>\n",
       "      <th></th>\n",
       "      <th></th>\n",
       "      <th></th>\n",
       "      <th></th>\n",
       "      <th></th>\n",
       "      <th></th>\n",
       "      <th></th>\n",
       "    </tr>\n",
       "  </thead>\n",
       "  <tbody>\n",
       "    <tr>\n",
       "      <th>2018-01-02</th>\n",
       "      <td>1066.939941</td>\n",
       "      <td>1045.229980</td>\n",
       "      <td>1048.339966</td>\n",
       "      <td>1065.000000</td>\n",
       "      <td>1237600</td>\n",
       "      <td>1065.000000</td>\n",
       "      <td>NaN</td>\n",
       "    </tr>\n",
       "    <tr>\n",
       "      <th>2018-01-03</th>\n",
       "      <td>1086.290039</td>\n",
       "      <td>1063.209961</td>\n",
       "      <td>1064.310059</td>\n",
       "      <td>1082.479980</td>\n",
       "      <td>1430200</td>\n",
       "      <td>1082.479980</td>\n",
       "      <td>0.016413</td>\n",
       "    </tr>\n",
       "    <tr>\n",
       "      <th>2018-01-04</th>\n",
       "      <td>1093.569946</td>\n",
       "      <td>1084.001953</td>\n",
       "      <td>1088.000000</td>\n",
       "      <td>1086.400024</td>\n",
       "      <td>1004600</td>\n",
       "      <td>1086.400024</td>\n",
       "      <td>0.003621</td>\n",
       "    </tr>\n",
       "    <tr>\n",
       "      <th>2018-01-05</th>\n",
       "      <td>1104.250000</td>\n",
       "      <td>1092.000000</td>\n",
       "      <td>1094.000000</td>\n",
       "      <td>1102.229980</td>\n",
       "      <td>1279100</td>\n",
       "      <td>1102.229980</td>\n",
       "      <td>0.014571</td>\n",
       "    </tr>\n",
       "    <tr>\n",
       "      <th>2018-01-08</th>\n",
       "      <td>1111.270020</td>\n",
       "      <td>1101.619995</td>\n",
       "      <td>1102.229980</td>\n",
       "      <td>1106.939941</td>\n",
       "      <td>1047600</td>\n",
       "      <td>1106.939941</td>\n",
       "      <td>0.004273</td>\n",
       "    </tr>\n",
       "  </tbody>\n",
       "</table>\n",
       "</div>"
      ],
      "text/plain": [
       "                   High          Low         Open        Close   Volume  \\\n",
       "Date                                                                      \n",
       "2018-01-02  1066.939941  1045.229980  1048.339966  1065.000000  1237600   \n",
       "2018-01-03  1086.290039  1063.209961  1064.310059  1082.479980  1430200   \n",
       "2018-01-04  1093.569946  1084.001953  1088.000000  1086.400024  1004600   \n",
       "2018-01-05  1104.250000  1092.000000  1094.000000  1102.229980  1279100   \n",
       "2018-01-08  1111.270020  1101.619995  1102.229980  1106.939941  1047600   \n",
       "\n",
       "              Adj Close   returns  \n",
       "Date                               \n",
       "2018-01-02  1065.000000       NaN  \n",
       "2018-01-03  1082.479980  0.016413  \n",
       "2018-01-04  1086.400024  0.003621  \n",
       "2018-01-05  1102.229980  0.014571  \n",
       "2018-01-08  1106.939941  0.004273  "
      ]
     },
     "execution_count": 7,
     "metadata": {},
     "output_type": "execute_result"
    }
   ],
   "source": [
    "goog.head()"
   ]
  },
  {
   "cell_type": "code",
   "execution_count": 8,
   "metadata": {},
   "outputs": [
    {
     "data": {
      "text/plain": [
       "<AxesSubplot:>"
      ]
     },
     "execution_count": 8,
     "metadata": {},
     "output_type": "execute_result"
    },
    {
     "data": {
      "image/png": "[encoded data removed]",
      "text/plain": [
       "<Figure size 432x288 with 1 Axes>"
      ]
     },
     "metadata": {
      "needs_background": "light"
     },
     "output_type": "display_data"
    }
   ],
   "source": [
    "amzn['returns'].hist(bins=50)"
   ]
  },
  {
   "cell_type": "code",
   "execution_count": 9,
   "metadata": {},
   "outputs": [
    {
     "data": {
      "text/plain": [
       "<AxesSubplot:>"
      ]
     },
     "execution_count": 9,
     "metadata": {},
     "output_type": "execute_result"
    },
    {
     "data": {
      "image/png": "[encoded data removed]",
      "text/plain": [
       "<Figure size 432x288 with 1 Axes>"
      ]
     },
     "metadata": {
      "needs_background": "light"
     },
     "output_type": "display_data"
    }
   ],
   "source": [
    "fb['returns'].hist(bins=50)"
   ]
  },
  {
   "cell_type": "code",
   "execution_count": 10,
   "metadata": {},
   "outputs": [
    {
     "data": {
      "text/plain": [
       "<AxesSubplot:>"
      ]
     },
     "execution_count": 10,
     "metadata": {},
     "output_type": "execute_result"
    },
    {
     "data": {
      "image/png": "[encoded data removed]",
      "text/plain": [
       "<Figure size 432x288 with 1 Axes>"
      ]
     },
     "metadata": {
      "needs_background": "light"
     },
     "output_type": "display_data"
    }
   ],
   "source": [
    "goog['returns'].hist(bins=50)"
   ]
  },
  {
   "cell_type": "code",
   "execution_count": 11,
   "metadata": {},
   "outputs": [
    {
     "data": {
      "text/plain": [
       "Timedelta('442 days 00:00:00')"
      ]
     },
     "execution_count": 11,
     "metadata": {},
     "output_type": "execute_result"
    }
   ],
   "source": [
    "amzn['returns'].min()\n",
    "min_amzn = amzn['returns'].min()\n",
    "max_amzn = amzn['returns'].max()\n",
    "diff_amzn = max_amzn - min_amzn\n",
    "min_date = amzn.loc[amzn['returns']== min_amzn]\n",
    "max_date = amzn.loc[amzn['returns']== max_amzn]\n",
    "amazn_delta = np.abs(max_date.index[0]-min_date.index[0])\n",
    "amazn_delta"
   ]
  },
  {
   "cell_type": "code",
   "execution_count": null,
   "metadata": {},
   "outputs": [],
   "source": []
  },
  {
   "cell_type": "code",
   "execution_count": 12,
   "metadata": {},
   "outputs": [
    {
     "data": {
      "text/plain": [
       "Timedelta('189 days 00:00:00')"
      ]
     },
     "execution_count": 12,
     "metadata": {},
     "output_type": "execute_result"
    }
   ],
   "source": [
    "fb['returns'].min()\n",
    "min_fb = fb['returns'].min()\n",
    "max_fb = fb['returns'].max()\n",
    "diff_fb = max_fb - min_fb\n",
    "min_date = fb.loc[fb['returns']== min_fb]\n",
    "max_date = fb.loc[fb['returns']== max_fb]\n",
    "fb_delta = np.abs(max_date.index[0]-min_date.index[0])\n",
    "fb_delta"
   ]
  },
  {
   "cell_type": "code",
   "execution_count": 14,
   "metadata": {},
   "outputs": [
    {
     "data": {
      "text/plain": [
       "Timedelta('234 days 00:00:00')"
      ]
     },
     "execution_count": 14,
     "metadata": {},
     "output_type": "execute_result"
    }
   ],
   "source": [
    "goog['returns'].min()\n",
    "min_goog = goog['returns'].min()\n",
    "max_goog = goog['returns'].max()\n",
    "diff_goog = max_goog - min_goog\n",
    "min_date = goog.loc[goog['returns']== min_goog]\n",
    "max_date = goog.loc[goog['returns']== max_goog]\n",
    "goog_delta = np.abs(max_date.index[0]-min_date.index[0])\n",
    "goog_delta"
   ]
  },
  {
   "cell_type": "code",
   "execution_count": 15,
   "metadata": {},
   "outputs": [
    {
     "data": {
      "text/plain": [
       "<matplotlib.legend.Legend at 0x1ef3472a100>"
      ]
     },
     "execution_count": 15,
     "metadata": {},
     "output_type": "execute_result"
    },
    {
     "data": {
      "image/png": "[encoded data removed]",
      "text/plain": [
       "<Figure size 720x576 with 1 Axes>"
      ]
     },
     "metadata": {
      "needs_background": "light"
     },
     "output_type": "display_data"
    }
   ],
   "source": [
    "amzn['returns'].hist(bins=100,label='amzn',figsize=(10,8),alpha=0.5)\n",
    "fb['returns'].hist(bins=100,label='fb',alpha=0.5)\n",
    "goog['returns'].hist(bins=100,label='google',alpha=0.5)\n",
    "plt.legend()"
   ]
  },
  {
   "cell_type": "code",
   "execution_count": null,
   "metadata": {},
   "outputs": [],
   "source": []
  }
 ],
 "metadata": {
  "kernelspec": {
   "display_name": "Python 3",
   "language": "python",
   "name": "python3"
  },
  "language_info": {
   "codemirror_mode": {
    "name": "ipython",
    "version": 3
   },
   "file_extension": ".py",
   "mimetype": "text/x-python",
   "name": "python",
   "nbconvert_exporter": "python",
   "pygments_lexer": "ipython3",
   "version": "3.8.5"
  }
 },
 "nbformat": 4,
 "nbformat_minor": 4
}
